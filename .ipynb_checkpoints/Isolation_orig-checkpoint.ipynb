{
 "cells": [
  {
   "cell_type": "code",
   "execution_count": 5,
   "id": "e6f200cb-6da7-4f81-889e-9be907fe51cd",
   "metadata": {},
   "outputs": [],
   "source": [
    "import pandas as pd\n",
    "import seaborn as sns\n",
    "from sklearn.ensemble import IsolationForest"
   ]
  },
  {
   "cell_type": "code",
   "execution_count": 8,
   "id": "a8a0de3a-07b6-4918-a5d8-bc4ab69c9f70",
   "metadata": {},
   "outputs": [
    {
     "name": "stdout",
     "output_type": "stream",
     "text": [
      "               date  Usage_kWh  Lagging_Current_Reactive.Power_kVarh  \\\n",
      "0  01/01/2018 00:15       3.17                                  2.95   \n",
      "1  01/01/2018 00:30       4.00                                  4.46   \n",
      "2  01/01/2018 00:45       3.24                                  3.28   \n",
      "3  01/01/2018 01:00       3.31                                  3.56   \n",
      "4  01/01/2018 01:15       3.82                                  4.50   \n",
      "\n",
      "   Leading_Current_Reactive_Power_kVarh  CO2(tCO2)  \\\n",
      "0                                   0.0        0.0   \n",
      "1                                   0.0        0.0   \n",
      "2                                   0.0        0.0   \n",
      "3                                   0.0        0.0   \n",
      "4                                   0.0        0.0   \n",
      "\n",
      "   Lagging_Current_Power_Factor  Leading_Current_Power_Factor   NSM  \\\n",
      "0                         73.21                         100.0   900   \n",
      "1                         66.77                         100.0  1800   \n",
      "2                         70.28                         100.0  2700   \n",
      "3                         68.09                         100.0  3600   \n",
      "4                         64.72                         100.0  4500   \n",
      "\n",
      "  WeekStatus Day_of_week   Load_Type  \n",
      "0    Weekday      Monday  Light_Load  \n",
      "1    Weekday      Monday  Light_Load  \n",
      "2    Weekday      Monday  Light_Load  \n",
      "3    Weekday      Monday  Light_Load  \n",
      "4    Weekday      Monday  Light_Load  \n"
     ]
    }
   ],
   "source": [
    "data = pd.read_csv(\"Steel_industry_data.csv\")\n",
    "print(data.head())"
   ]
  },
  {
   "cell_type": "code",
   "execution_count": 10,
   "id": "9fd5d6a2-b167-4cd1-8e28-841226e6b80b",
   "metadata": {},
   "outputs": [
    {
     "name": "stdout",
     "output_type": "stream",
     "text": [
      "<class 'pandas.core.frame.DataFrame'>\n",
      "RangeIndex: 35040 entries, 0 to 35039\n",
      "Data columns (total 11 columns):\n",
      " #   Column                                Non-Null Count  Dtype  \n",
      "---  ------                                --------------  -----  \n",
      " 0   date                                  35040 non-null  object \n",
      " 1   Usage_kWh                             35040 non-null  float64\n",
      " 2   Lagging_Current_Reactive.Power_kVarh  35040 non-null  float64\n",
      " 3   Leading_Current_Reactive_Power_kVarh  35040 non-null  float64\n",
      " 4   CO2(tCO2)                             35040 non-null  float64\n",
      " 5   Lagging_Current_Power_Factor          35040 non-null  float64\n",
      " 6   Leading_Current_Power_Factor          35040 non-null  float64\n",
      " 7   NSM                                   35040 non-null  int64  \n",
      " 8   WeekStatus                            35040 non-null  object \n",
      " 9   Day_of_week                           35040 non-null  object \n",
      " 10  Load_Type                             35040 non-null  object \n",
      "dtypes: float64(6), int64(1), object(4)\n",
      "memory usage: 2.9+ MB\n"
     ]
    }
   ],
   "source": [
    "data.info()"
   ]
  },
  {
   "cell_type": "code",
   "execution_count": 18,
   "id": "a0d42dc5-631a-4bca-9b58-92b06d54b3da",
   "metadata": {},
   "outputs": [],
   "source": [
    "data = data.dropna()"
   ]
  },
  {
   "cell_type": "code",
   "execution_count": 16,
   "id": "f1758854-13c6-409c-a371-338485bf8f8a",
   "metadata": {},
   "outputs": [
    {
     "name": "stdout",
     "output_type": "stream",
     "text": [
      "<class 'pandas.core.frame.DataFrame'>\n",
      "RangeIndex: 35040 entries, 0 to 35039\n",
      "Data columns (total 11 columns):\n",
      " #   Column                                Non-Null Count  Dtype  \n",
      "---  ------                                --------------  -----  \n",
      " 0   date                                  35040 non-null  object \n",
      " 1   Usage_kWh                             35040 non-null  float64\n",
      " 2   Lagging_Current_Reactive.Power_kVarh  35040 non-null  float64\n",
      " 3   Leading_Current_Reactive_Power_kVarh  35040 non-null  float64\n",
      " 4   CO2(tCO2)                             35040 non-null  float64\n",
      " 5   Lagging_Current_Power_Factor          35040 non-null  float64\n",
      " 6   Leading_Current_Power_Factor          35040 non-null  float64\n",
      " 7   NSM                                   35040 non-null  int64  \n",
      " 8   WeekStatus                            35040 non-null  object \n",
      " 9   Day_of_week                           35040 non-null  object \n",
      " 10  Load_Type                             35040 non-null  object \n",
      "dtypes: float64(6), int64(1), object(4)\n",
      "memory usage: 2.9+ MB\n"
     ]
    }
   ],
   "source": [
    "data.info()"
   ]
  },
  {
   "cell_type": "code",
   "execution_count": null,
   "id": "1704a565-778a-4690-ba77-9c7ce44049f6",
   "metadata": {},
   "outputs": [],
   "source": []
  }
 ],
 "metadata": {
  "kernelspec": {
   "display_name": "Python [conda env:OOPSEnvironment] *",
   "language": "python",
   "name": "conda-env-OOPSEnvironment-py"
  },
  "language_info": {
   "codemirror_mode": {
    "name": "ipython",
    "version": 3
   },
   "file_extension": ".py",
   "mimetype": "text/x-python",
   "name": "python",
   "nbconvert_exporter": "python",
   "pygments_lexer": "ipython3",
   "version": "3.10.16"
  }
 },
 "nbformat": 4,
 "nbformat_minor": 5
}
